{
 "cells": [
  {
   "cell_type": "markdown",
   "id": "c187da20",
   "metadata": {},
   "source": [
    "# Assignment-6\n",
    "\n",
    "This notebook contains the questions to test the proficiency in `Statistics`.\n",
    "\n",
    "### Date: 28th June, 2025\n",
    "\n",
    "### Steps to solve and upload the assignment \n",
    "\n",
    "- Download the notebook in your local machine.\n",
    "- Solve the questions in the notebook and save it.\n",
    "- Rename the file as `Assignment-06-<your_name>_<your_surname>.ipynb`. For example if your name is Dipika Chopra then name the file as `Assignment-06-Dipika_Chopra.ipynb`.\n",
    "- For numerical problems you can either solve the same using using python in the solution notebook or you can solve it on paper and upload the scan pdf copy of the solution. \n",
    "- If you are solving it on paper then name the pdf file of the scan copy of the solution as `Assignment-06-<your_name>_<your_surname>.pdf`. For example if your name is Akash Kumar then name the file as `Assignment-06-Akash_Kumar.pdf`.\n",
    "- Upload the solved notebook and the scanned pdf copy of the solutions in the google drive location: https://drive.google.com/drive/folders/1VW5Z6l5r0mQTFbvvlhNNHnIlJ8A0yG5c?usp=sharing\n",
    "<h3><span style=\"color:red\"> Deadline: 19th July, 2025 </span></h3>"
   ]
  },
  {
   "cell_type": "markdown",
   "id": "3649d872",
   "metadata": {},
   "source": [
    "<h5><span style=\"color:blue\"> <b>Instructions:</b> Please answer all the questions. For problems requiring numerical solutions, you are encouraged to write code in Python to compute the results. Show your steps and explain your reasoning. </span></h5>"
   ]
  },
  {
   "cell_type": "markdown",
   "id": "1c96ba7f",
   "metadata": {},
   "source": [
    "### Problem-1\n",
    "\n",
    "A startup company with 20 employees recorded their annual salaries (in INR Lakhs):\n",
    "`[6.5, 7.2, 8.0, 6.8, 9.5, 7.0, 15.0, 7.5, 8.2, 6.9, 7.8, 10.5, 7.1, 8.5, 6.7, 7.3, 7.9, 9.0, 8.8, 7.6]`\n",
    "\n",
    "(a) Calculate the mean, median, and mode of the salaries.\n",
    "\n",
    "(b) Determine the range, variance, and standard deviation of the salaries.\n",
    "\n",
    "(c) Calculate the Interquartile Range (IQR). What does the IQR tell you about the salary distribution?\n",
    "\n",
    "(d) Construct a box plot for the salaries. Identify any potential outliers.\n"
   ]
  },
  {
   "cell_type": "code",
   "execution_count": 4,
   "id": "5f1ba493",
   "metadata": {},
   "outputs": [
    {
     "name": "stdout",
     "output_type": "stream",
     "text": [
      "mean salary: 8.190000000000001\n",
      "median salary: 7.699999999999999\n",
      "mode salary: 6.5\n",
      "range of salary: 8.5\n",
      "population vaiance of salary: 3.4349000000000003\n",
      "sample vaiance of salary: 3.6156842105263163\n",
      "standard deviation of salary: 1.8533483212823219\n",
      "Q1: 7.07\n",
      "Q3: 8.57\n",
      "IQR: 1.50\n",
      "Q1: 7.074999999999999\n",
      "Q3: 8.575\n",
      "IQR: 1.5\n",
      "lower bound[q1-(1.5*iqr)] 1.2874999999999996\n",
      "higher bound[q3 + (1.5*iqr)] 14.362499999999999\n"
     ]
    },
    {
     "data": {
      "image/png": "[encoded data removed]",
      "text/plain": [
       "<Figure size 1000x500 with 1 Axes>"
      ]
     },
     "metadata": {},
     "output_type": "display_data"
    }
   ],
   "source": [
    "import numpy as np\n",
    "import pandas as pd \n",
    "import matplotlib.pyplot as plt \n",
    "from scipy import stats\n",
    "salary= [6.5, 7.2, 8.0, 6.8, 9.5, 7.0, 15.0, 7.5, 8.2, 6.9, 7.8, 10.5, 7.1, 8.5, 6.7, 7.3, 7.9, 9.0, 8.8, 7.6]\n",
    "'''a. mean,media,mode'''\n",
    "print('mean salary:',np.mean(salary))\n",
    "print('median salary:',np.median(salary))\n",
    "print('mode salary:',stats.mode(salary, keepdims=True)[0][0]) #np doest have mode function\n",
    "'''b. range, variance, standard deviation  '''\n",
    "print('range of salary:',max(salary)-min(salary))\n",
    "print('population vaiance of salary:',np.var(salary, ddof=0))  # population variance\n",
    "print('sample vaiance of salary:',np.var(salary, ddof=1))  # sample variance\n",
    "print('standard deviation of salary:',np.std(salary))\n",
    "'''Calculate the Interquartile Range (IQR). What does the IQR tell you about the salary distribution?'''\n",
    "q1 = np.percentile(salary, 25)\n",
    "q3 = np.percentile(salary, 75)\n",
    "print(f'Q1: {q1:.2f}')\n",
    "print(f'Q3: {q3:.2f}')\n",
    "print(f'IQR: {q3 - q1:.2f}')\n",
    "#or\n",
    "q1 = np.quantile(salary, 0.25)\n",
    "q3 = np.quantile(salary, 0.75)\n",
    "print('Q1:', q1)\n",
    "print('Q3:', q3)\n",
    "print('IQR:', q3 - q1)\n",
    "print('lower bound[q1-(1.5*iqr)]', q1-(1.5*q3 - q1))\n",
    "print('higher bound[q3 + (1.5*iqr)]', q3 + (1.5*q3 - q1))\n",
    "'''d. Construct a box plot for the salaries. Identify any potential outliers.'''\n",
    "plt.figure(figsize=(10, 5))\n",
    "plt.boxplot(salary, vert=False)\n",
    "plt.title('Box plot of Salaries')\n",
    "plt.show()#outlier in right(14/15), may be high salary "
   ]
  },
  {
   "cell_type": "markdown",
   "id": "fea186a2",
   "metadata": {},
   "source": [
    "### Problem-2\n",
    "\n",
    "A tech company conducted a customer satisfaction survey, rating their latest product on a scale of 1 to 10 (10 being highly satisfied). The scores from 30 randomly selected customers are:\n",
    "[7, 8, 9, 6, 7, 8, 10, 5, 7, 8, 9, 7, 6, 8, 7, 9, 10, 6, 7, 8, 5, 9, 8, 7, 6, 7, 8, 9, 7, 8]\n",
    "\n",
    "(a) Create a frequency distribution table for these scores.\n",
    "\n",
    "(b) Plot a histogram of the customer satisfaction scores. Describe the shape of the distribution (e.g., symmetric, skewed).\n",
    "\n",
    "(c) Calculate the Pearson's (first and second) coefficients of skewness for this data. Interpret the values.\n",
    "\n",
    "(d) Calculate the excess kurtosis for this data using sample kurtosis formula. What does the kurtosis value suggest about the tails of the distribution?"
   ]
  },
  {
   "cell_type": "code",
   "execution_count": 1,
   "id": "7df50f76",
   "metadata": {},
   "outputs": [
    {
     "name": "stdout",
     "output_type": "stream",
     "text": [
      "Frequency Distribution Table:\n",
      "5     2\n",
      "6     4\n",
      "7     9\n",
      "8     8\n",
      "9     5\n",
      "10    2\n",
      "Name: count, dtype: int64\n"
     ]
    },
    {
     "data": {
      "image/png": "[encoded data removed]",
      "text/plain": [
       "<Figure size 640x480 with 1 Axes>"
      ]
     },
     "metadata": {},
     "output_type": "display_data"
    },
    {
     "name": "stdout",
     "output_type": "stream",
     "text": [
      "First Pearson's coefficient of skewness: 0.0260\n",
      "Second Pearson's coefficient of skewness: 0.0779\n",
      "Excess Kurtosis: -3.3811\n"
     ]
    },
    {
     "data": {
      "text/plain": [
       "'Interpretation: A positive excess kurtosis indicates that the distribution has heavier tails than a normal distribution, \\nsuggesting that there are more extreme values (outliers) in the data. A negative excess kurtosis would indicate lighter tails.'"
      ]
     },
     "execution_count": 1,
     "metadata": {},
     "output_type": "execute_result"
    }
   ],
   "source": [
    "\n",
    "import numpy as np\n",
    "import pandas as pd\n",
    "import seaborn as sns\n",
    "import matplotlib.pyplot as plt\n",
    "scores = [7, 8, 9, 6, 7, 8, 10, 5, 7, 8, 9, 7, 6, 8, 7, 9, 10, 6, 7, 8, 5, 9, 8, 7, 6, 7, 8, 9, 7, 8]\n",
    "'''(a) Create a frequency distribution table for these scores.'''\n",
    "frequency_table = pd.Series(scores).value_counts().sort_index()\n",
    "print(\"Frequency Distribution Table:\")\n",
    "print(frequency_table)\n",
    "'''(b) Plot a histogram of the customer satisfaction scores. Describe the shape of the distribution (e.g., symmetric, skewed).'''\n",
    "plt.hist(scores, bins=5,edgecolor='black', alpha=0.7)\n",
    "plt.title('Histogram of Customer Satisfaction Scores')\n",
    "plt.xlabel('Scores')\n",
    "plt.ylabel('Frequency')\n",
    "plt.grid(axis='y', alpha=0.75)\n",
    "plt.show()\n",
    "'''The histogram appears to be slightly left-skewed, with a higher frequency of scores around 7 and 8'''\n",
    "'''(c) Calculate the Pearson's (first and second) coefficients of skewness for this data. Interpret the values.'''\n",
    "mean = np.mean(scores)\n",
    "median = np.median(scores)\n",
    "mode = pd.Series(scores).mode()\n",
    "# First Pearson's coefficient of skewness\n",
    "pearson_first_skewness = (mean - median) / np.std(scores)\n",
    "# Second Pearson's coefficient of skewness\n",
    "pearson_second_skewness = 3 * (mean - median) / np.std(scores)\n",
    "print(f\"First Pearson's coefficient of skewness: {pearson_first_skewness:.4f}\")\n",
    "print(f\"Second Pearson's coefficient of skewness: {pearson_second_skewness:.4f}\")\n",
    "'''Interpretation: A positive skewness value indicates that the distribution has a longer tail on the\n",
    "right side, suggesting that there are a few higher scores that are pulling the mean up compared to the median.'''\n",
    "'''(d) Calculate the excess kurtosis for this data using sample kurtosis formula. What does the kurtosis value suggest about the tails of the distribution?'''\n",
    "kurtosis = pd.Series(scores).kurtosis()\n",
    "excess_kurtosis = kurtosis - 3  # Excess kurtosis\n",
    "print(f\"Excess Kurtosis: {excess_kurtosis:.4f}\")\n",
    "'''Interpretation: A positive excess kurtosis indicates that the distribution has heavier tails than a normal distribution, \n",
    "suggesting that there are more extreme values (outliers) in the data. A negative excess kurtosis would indicate lighter tails.'''   "
   ]
  },
  {
   "cell_type": "markdown",
   "id": "060b1079",
   "metadata": {},
   "source": [
    "### Problem-3\n",
    "\n",
    "A marketing team wants to understand the relationship between their monthly advertising expenditure (in INR Lakhs) and corresponding sales revenue (in INR Lakhs) over the last 10 months.\n",
    "\n",
    "| Month | Advertising Spend (X) | Sales Revenue (Y) |\n",
    "|-------|-----------------------|-------------------|\n",
    "|     1 |                     5 |                52 |\n",
    "|     2 |                     7 |                65 |\n",
    "|     3 |                     6 |                60 |\n",
    "|     4 |                     8 |                70 |\n",
    "|     5 |                     5 |                55 |\n",
    "|     6 |                     9 |                75 |\n",
    "|     7 |                     7 |                68 |\n",
    "|     8 |                    10 |                80 |\n",
    "|     9 |                     6 |                58 |\n",
    "|    10 |                     8 |                72 |\n",
    "\n",
    "\n",
    "(a) Calculate the covariance between advertising spend and sales revenue.\n",
    "\n",
    "(b) Plot Sales Revenue vs Advertising spent.\n",
    "\n",
    "(c) Calculate the Pearson correlation coefficient between advertising spend and sales revenue.\n",
    "\n",
    "(d) Interpret the meaning of both the covariance and the correlation coefficient in the context of this data."
   ]
  },
  {
   "cell_type": "code",
   "execution_count": 2,
   "id": "b03f6f4c",
   "metadata": {},
   "outputs": [
    {
     "name": "stdout",
     "output_type": "stream",
     "text": [
      "Covariance between advertising spend and sales revenue: [[ 2.76666667 14.94444444]\n",
      " [14.94444444 83.16666667]]\n",
      "Covariance between advertising spend and sales revenue: 14.944444444444443\n"
     ]
    },
    {
     "data": {
      "image/png": "[encoded data removed]",
      "text/plain": [
       "<Figure size 640x480 with 1 Axes>"
      ]
     },
     "metadata": {},
     "output_type": "display_data"
    },
    {
     "name": "stdout",
     "output_type": "stream",
     "text": [
      "Pearson correlation coefficient between advertising spend and sales revenue: [[1.         0.98520523]\n",
      " [0.98520523 1.        ]]\n",
      "Pearson correlation coefficient between advertising spend and sales revenue: 0.9852052295662903\n",
      "Covariance is positive, indicating that as advertising spend increases, sales revenue tends to increase as well.\n",
      "The Pearson correlation coefficient is positive, suggesting a strong positive linear relationship between advertising spend and sales revenue.\n"
     ]
    }
   ],
   "source": [
    "#sample covariance and correlation coefficient\n",
    "months = list(range(1, 11))\n",
    "advertising_spend = [5, 7, 6, 8, 5, 9, 7, 10, 6, 8]\n",
    "sales_revenue = [52, 65, 60, 70, 55, 75, 68, 80, 58, 72]\n",
    "import numpy as np \n",
    "import matplotlib.pyplot as plt\n",
    "# (a) Calculate the covariance between advertising spend and sales revenue.\n",
    "'''[[var(advertising_spend), cov(advertising_spend, sales_revenue)],\n",
    " [cov(sales_revenue, advertising_spend), var(sales_revenue)]]'''\n",
    "print(\"Covariance between advertising spend and sales revenue:\", np.cov(advertising_spend, sales_revenue))\n",
    "print(\"Covariance between advertising spend and sales revenue:\",np.cov(advertising_spend, sales_revenue)[0][1])\n",
    "# (b) Plot Sales Revenue vs Advertising spent.#covariance normally for Q-Q, that why used scatter plot\n",
    "plt.scatter(advertising_spend, sales_revenue)\n",
    "plt.title('Sales Revenue vs Advertising Spend')\n",
    "plt.xlabel('Advertising Spend (INR Lakhs)')\n",
    "plt.ylabel('sales_revenue')\n",
    "plt.show()\n",
    "# (c) Calculate the Pearson correlation coefficient between advertising spend and sales revenue.\n",
    "print(\"Pearson correlation coefficient between advertising spend and sales revenue:\", np.corrcoef(advertising_spend, sales_revenue))\n",
    "print(\"Pearson correlation coefficient between advertising spend and sales revenue:\",np.corrcoef(advertising_spend, sales_revenue)[0][1])\n",
    "# (d) Interpret the meaning of both the covariance and the correlation coefficient in the context of this data.\n",
    "if np.cov(advertising_spend, sales_revenue)[0][1] > 0:\n",
    "    print(\"Covariance is positive, indicating that as advertising spend increases, sales revenue tends to increase as well.\")\n",
    "else:\n",
    "    print(\"Covariance is negative, indicating that as advertising spend increases, sales revenue tends to decrease.\")\n",
    "if np.corrcoef(advertising_spend, sales_revenue)[0][1] > 0:\n",
    "    print(\"The Pearson correlation coefficient is positive, suggesting a strong positive linear relationship between advertising spend and sales revenue.\")\n",
    "else:\n",
    "    print(\"The Pearson correlation coefficient is negative, suggesting a strong negative linear relationship between advertising spend and sales revenue.\")"
   ]
  },
  {
   "cell_type": "markdown",
   "id": "6f4d1031",
   "metadata": {},
   "source": [
    "### Problem-4\n",
    "\n",
    "A traffic department claims that the average daily commute time for residents in a certain city is 45 minutes. A researcher believes this claim is too low and collects data from a random sample of 100 residents. The sample mean commute time is 48 minutes with a standard deviation of 12 minutes.\n",
    "\n",
    "(a) Formulate the null and alternative hypotheses for this scenario.\n",
    "\n",
    "(b) Construct a 95% confidence interval for the true average daily commute time.\n",
    "\n",
    "(c) Based on the confidence interval, what can you conclude about the traffic department's claim?"
   ]
  },
  {
   "cell_type": "code",
   "execution_count": 1,
   "id": "0def6719",
   "metadata": {},
   "outputs": [
    {
     "name": "stdout",
     "output_type": "stream",
     "text": [
      "95% Confidence Interval: 45.65 to 50.35\n",
      "The confidence interval suggests that the average daily commute time is likely greater than 45 minutes, supporting the researcher's belief.\n"
     ]
    },
    {
     "data": {
      "image/png": "[encoded data removed]",
      "text/plain": [
       "<Figure size 800x500 with 1 Axes>"
      ]
     },
     "metadata": {},
     "output_type": "display_data"
    }
   ],
   "source": [
    "import numpy as np\n",
    "import scipy.stats as stats\n",
    "import matplotlib.pyplot as plt\n",
    "sd=12\n",
    "m=48\n",
    "n=100\n",
    "# (a) Formulate the null and alternative hypotheses for this scenario.\n",
    "#Null Hypothesis (H0): The average daily commute time is 45 minutes (μ = 45).\n",
    "# Alternative Hypothesis (H1): The average daily commute time is greater than 45 minutes (μ > 45).\n",
    "# H0: μ = 45\n",
    "# H1: μ > 45    \n",
    "\n",
    "# (b) Construct a 95% confidence interval for the true average daily commute time.\n",
    "alpha = 0.05  # significance level - for 90 cl -0.1,95 cl-0.05, 99 cl -0.01\n",
    "standard_of_error =  (sd / np.sqrt(n))\n",
    "margin_of_error= standard_of_error*1.96\n",
    "confidence_interval = (m - margin_of_error, m + margin_of_error)\n",
    "print(f\"95% Confidence Interval: {confidence_interval[0]:.2f} to {confidence_interval[1]:.2f}\")\n",
    "# (c) Based on the confidence interval, what can you conclude about the traffic department's claim?\n",
    "# If the confidence interval does not include 45, we can conclude that the average daily commute time is likely greater than 45 minutes.\n",
    "if confidence_interval[0] > 45:\n",
    "    print(\"The confidence interval suggests that the average daily commute time is likely greater than 45 minutes, supporting the researcher's belief.\")\n",
    "else:\n",
    "    print(\"The confidence interval includes 45 minutes, so we cannot conclude that the average daily commute time is greater than 45 minutes.\") \n",
    "# Visualize the confidence interval on a plot.\n",
    "plt.figure(figsize=(8, 5))\n",
    "plt.axvline(x=45, color='red', linestyle='--', label='Traffic Department Claim (μ = 45)')\n",
    "plt.axvline(x=confidence_interval[0], color='blue', linestyle='--',\n",
    "label=f'Lower Bound of CI ({confidence_interval[0]:.2f})')\n",
    "plt.axvline(x=confidence_interval[1], color='green', linestyle='--',\n",
    "label=f'Upper Bound of CI ({confidence_interval[1]:.2f})')\n",
    "plt.title('95% Confidence Interval for Average Daily Commute Time')\n",
    "plt.xlabel('Daily Commute Time (minutes)')\n",
    "plt.ylabel('Density')\n",
    "plt.legend()\n",
    "plt.grid()\n",
    "plt.show()"
   ]
  },
  {
   "cell_type": "markdown",
   "id": "a9967414",
   "metadata": {},
   "source": [
    "### Problem-5\n",
    "\n",
    "A manufacturing company wants to estimate the average number of units produced per hour by a new machine. They take 36 random observations and find the sample mean to be 150 units with a sample standard deviation of 15 units.\n",
    "\n",
    "(a) What is the point estimate for the true average number of units produced per hour?\n",
    "\n",
    "(b) Construct a 99% confidence interval for the true average number of units produced per hour.\n",
    "\n",
    "(c) If the company wants to be 99% confident that their estimate is within 3 units of the true mean, what sample size would they need (assuming the same standard deviation)?"
   ]
  },
  {
   "cell_type": "code",
   "execution_count": 2,
   "id": "f121a585",
   "metadata": {},
   "outputs": [
    {
     "name": "stdout",
     "output_type": "stream",
     "text": [
      "Point Estimate for the true average number of units produced per hour: 150 units\n",
      "95% Confidence Interval: 143.55 to 156.45\n",
      "Required sample size for 99% confidence within 3 units: 165\n"
     ]
    },
    {
     "data": {
      "image/png": "[encoded data removed]",
      "text/plain": [
       "<Figure size 800x500 with 1 Axes>"
      ]
     },
     "metadata": {},
     "output_type": "display_data"
    }
   ],
   "source": [
    "import numpy as np\n",
    "import scipy.stats as stats\n",
    "import pandas as pd\n",
    "n=36\n",
    "mean=150\n",
    "sd=15\n",
    "# (a) What is the point estimate for the true average number of units produced per hour?\n",
    "#The point estimate of a population mean is simply the sample mean.\n",
    "point_estimate = mean\n",
    "print(f\"Point Estimate for the true average number of units produced per hour: {point_estimate} units\")\n",
    "# (b) Construct a 99% confidence interval for the true average number of units produced per hour.\n",
    "alpha = 0.01 # significance level - for 90 cl -0.1,95 cl-0.05, 99 cl -0.01\n",
    "standard_of_error =  (sd / np.sqrt(n))\n",
    "margin_of_error= standard_of_error*2.58  #z alpha/2 of 99% confidence interval is 2.58\n",
    "confidence_interval = (mean - margin_of_error, mean + margin_of_error)\n",
    "print(f\"95% Confidence Interval: {confidence_interval[0]:.2f} to {confidence_interval[1]:.2f}\")\n",
    "# (c) If the company wants to be 99% confident that their estimate is within 3 units of the true mean,\n",
    "# what sample size would they need (assuming the same standard deviation)?\n",
    "#so, we need to find the minimum sample size\n",
    "# Sample size formula--> n = (z_score * sd / desired_margin_of_error) ** 2 \n",
    "alpha=0.01  # significance level for 99% confidence\n",
    "desired_margin_of_error = 3\n",
    "z_score = stats.norm.ppf(1 - alpha / 2)  # z-score for 99% confidence=0.995\n",
    "required_sample_size = ((z_score  * sd) / desired_margin_of_error) ** 2\n",
    "#required_sample_size = np.ceil(required_sample_size)  # Round up to the nearest whole number\n",
    "print(f\"Required sample size for 99% confidence within {desired_margin_of_error} units: {int(required_sample_size)}\")\n",
    "# Visualize the confidence interval on a plot.\n",
    "import matplotlib.pyplot as plt\n",
    "plt.figure(figsize=(8, 5))\n",
    "plt.axvline(x=mean, color='red', linestyle='--', label='Sample Mean (150 units)')\n",
    "plt.axvline(x=confidence_interval[0], color='blue', linestyle='--',\n",
    "label=f'Lower Bound of CI ({confidence_interval[0]:.2f})')\n",
    "plt.axvline(x=confidence_interval[1], color='green', linestyle='--',\n",
    "label=f'Upper Bound of CI ({confidence_interval[1]:.2f})')\n",
    "plt.title('99% Confidence Interval for Average Units Produced per Hour')\n",
    "plt.xlabel('Units Produced per Hour')\n",
    "plt.ylabel('Density')\n",
    "plt.legend()\n",
    "plt.grid()\n",
    "plt.show()"
   ]
  },
  {
   "cell_type": "markdown",
   "id": "28c7a27a",
   "metadata": {},
   "source": [
    "### Problem-6\n",
    "\n",
    "A website designer believes that a new website redesign will increase the average time users spend on the site. Before the redesign, the average time spent was 3.5 minutes. After the redesign, a random sample of 50 users showed an average time of 3.8 minutes with a standard deviation of 1.0 minute.\n",
    "\n",
    "(a) Perform a one-sided hypothesis test at a 0.05 significance level to determine if the redesign significantly increased the average time spent.\n",
    "\n",
    "(b) State your null and alternative hypotheses, calculate the test statistic, and determine the p-value.\n",
    "\n",
    "(c) What is your conclusion regarding the website redesign's impact?"
   ]
  },
  {
   "cell_type": "code",
   "execution_count": 3,
   "id": "90c45610",
   "metadata": {},
   "outputs": [
    {
     "name": "stdout",
     "output_type": "stream",
     "text": [
      "Test Statistic (z-score): 2.1213\n",
      "P-value: 0.0169\n",
      "Reject the null hypothesis. The redesign significantly increased the average time spent on the site.\n"
     ]
    }
   ],
   "source": [
    "Ho=3.5  # Null hypothesis mean\n",
    "m=3.8  # Alternative hypothesis mean\n",
    "sd=1.0  # Standard deviation\n",
    "n=50  # Sample size\n",
    "'''(a) Perform a one-sided hypothesis test at a 0.05 significance level to determine\n",
    " if the redesign significantly increased the average time spent.'''\n",
    "import numpy as np\n",
    "import scipy.stats as stats\n",
    "Ho=3.5  # Null hypothesis mean\n",
    "H1=3.8  # Alternative hypothesis mean\n",
    "n = 50  # Sample size\n",
    "sd = 1.0  # Standard deviation\n",
    "alpha = 0.05  # significance level\n",
    "# (b) State your null and alternative hypotheses, calculate the test statistic, and determine the p-value.\n",
    "# Null Hypothesis (H0): The average time spent on the site after the redesign is less than or equal to 3.5 minutes (μ ≤ 3.5).\n",
    "# Alternative Hypothesis (H1): The average time spent on the site after the redesign is greater than 3.5 minutes (μ > 3.5).\n",
    "# Calculate the standard error of the mean\n",
    "standard_error = sd / np.sqrt(n)\n",
    "# Calculate the z-score for the test statistic\n",
    "Ho = 3.5  # Null hypothesis mean\n",
    "m= 3.8  # Alternative hypothesis mean\n",
    "# Calculate the z-score (test statistic)\n",
    "z_score = (m - Ho) / standard_error # test statistic\n",
    "print(f\"Test Statistic (z-score): {z_score:.4f}\")\n",
    "# Calculate the p-value for a one-sided test\n",
    "p_value = 1 - stats.norm.cdf(z_score)\n",
    "print(f\"P-value: {p_value:.4f}\")\n",
    "# (a) Perform a one-sided hypothesis test at a 0.05 significance level to determine if the redesign significantly increased the average time spent.\n",
    "if p_value < alpha:\n",
    "    print(\"Reject the null hypothesis. The redesign significantly increased the average time spent on the site.\")\n",
    "else:\n",
    "    print(\"Fail to reject the null hypothesis. There is not enough evidence to conclude that the redesign significantly increased the average time spent on the site.\") \n",
    "# (c) What is your conclusion regarding the website redesign's impact?\n",
    "# Since the p-value is less than the significance level (0.05), we reject the\n",
    "# null hypothesis and conclude that the redesign significantly increased the average time spent on the site."
   ]
  },
  {
   "cell_type": "markdown",
   "id": "b516b37d",
   "metadata": {},
   "source": [
    "### Problem-7\n",
    "\n",
    "A company implemented a new training program to improve employee productivity. To assess its effectiveness, 15 employees' productivity scores were recorded before and after the training program. The scores are as follows:\n",
    "\n",
    "| Employee | Before Training | After Training |\n",
    "|----------|-----------------|----------------|\n",
    "|        1 |              65 |             70 |\n",
    "|        2 |              70 |             72 |\n",
    "|        3 |              60 |             68 |\n",
    "|        4 |              75 |             73 |\n",
    "|        5 |              80 |             85 |\n",
    "|        6 |              68 |             70 |\n",
    "|        7 |              72 |             75 |\n",
    "|        8 |              62 |             65 |\n",
    "|        9 |              78 |             80 |\n",
    "|       10 |              70 |             72 |\n",
    "|       11 |              66 |             69 |\n",
    "|       12 |              73 |             76 |\n",
    "|       13 |              64 |             67 |\n",
    "|       14 |              71 |             74 |\n",
    "|       15 |              69 |             71 |\n",
    "\n",
    "(a) State the null and alternative hypotheses to test if the training program significantly improved productivity.\n",
    "\n",
    "(b) Conduct a paired samples t-test at a 0.05 significance level. Calculate the test statistic and the p-value.\n",
    "\n",
    "(c) Based on your analysis, did the training program effectively improve employee productivity?"
   ]
  },
  {
   "cell_type": "code",
   "execution_count": 4,
   "id": "3ae2c445",
   "metadata": {},
   "outputs": [
    {
     "name": "stdout",
     "output_type": "stream",
     "text": [
      "Test Statistic: 5.3583\n",
      "P-value: 0.0001\n",
      "Reject the null hypothesis. The training program significantly improved employee productivity.\n"
     ]
    }
   ],
   "source": [
    "import numpy as np\n",
    "import scipy.stats as stats\n",
    "before_training = np.array([65, 70, 60, 75, 80, 68, 72, 62, 78, 70, 66, 73, 64, 71, 69])\n",
    "after_training = np.array([70, 72, 68, 73, 85, 70, 75, 65, 80, 72, 69, 76, 67, 74, 71])\n",
    "test_statistic, p_value = stats.ttest_rel(after_training, before_training)#built in function for paired t-test\n",
    "alpha = 0.05  # significance level\n",
    "# (a) State the null and alternative hypotheses to test if the training program significantly improved productivity.\n",
    "# Null Hypothesis (H0): The training program did not significantly improve productivity (mean difference ≤ 0).\n",
    "# Alternative Hypothesis (H1): The training program significantly improved productivity (mean difference > 0).\n",
    "# (b) Conduct a paired samples t-test at a 0.05 significance level. Calculate the test statistic and the p-value.\n",
    "print(f\"Test Statistic: {test_statistic:.4f}\")\n",
    "print(f\"P-value: {p_value:.4f}\")\n",
    "# (c) Based on your analysis, did the training program effectively improve employee productivity?\n",
    "if p_value < alpha:\n",
    "    print(\"Reject the null hypothesis. The training program significantly improved employee productivity.\")\n",
    "else:\n",
    "    print(\"Fail to reject the null hypothesis. There is not enough evidence to conclude that the training program significantly improved employee productivity.\")\n"
   ]
  },
  {
   "cell_type": "markdown",
   "id": "428bf18a",
   "metadata": {},
   "source": [
    "### Problem-8\n",
    "\n",
    "A battery manufacturer claims that their new 'ProLife' battery lasts longer than their existing 'Standard' battery. A consumer watchdog organization tests 40 'ProLife' batteries and 50 'Standard' batteries. The results are:\n",
    "\n",
    "ProLife: Sample mean life = 120 hours, Sample standard deviation = 10 hours\n",
    "\n",
    "Standard: Sample mean life = 115 hours, Sample standard deviation = 12 hours\n",
    "\n",
    "(a) State the null and alternative hypotheses for testing the manufacturer's claim.\n",
    "\n",
    "(b) Perform a z-test for two independent means at a 0.02 significance level.\n",
    "\n",
    "(c) What is your conclusion regarding the manufacturer's claim about the 'ProLife' battery?"
   ]
  },
  {
   "cell_type": "code",
   "execution_count": 5,
   "id": "87f0e498",
   "metadata": {},
   "outputs": [
    {
     "name": "stdout",
     "output_type": "stream",
     "text": [
      "Test Statistic (z-score): 2.1557\n",
      "P-value: 0.0156\n",
      "Reject the null hypothesis. The 'ProLife' battery lasts significantly longer than the 'Standard' battery.\n",
      "Test Statistic (t-statistic): 2.1557\n",
      "P-value: 0.0338\n",
      "Fail to reject the null hypothesis. There is not enough evidence to conclude that the 'ProLife' battery lasts longer than the 'Standard' battery.\n"
     ]
    }
   ],
   "source": [
    "# t-test of 2 independent samples\n",
    "import numpy as np\n",
    "import scipy.stats as stats\n",
    "# Sample data\n",
    "prolife_mean = 120\n",
    "prolife_sd = 10\n",
    "prolife_n = 40\n",
    "standard_mean = 115\n",
    "standard_sd = 12\n",
    "standard_n = 50\n",
    "# (a) State the null and alternative hypotheses for testing the manufacturer's claim.\n",
    "# Null Hypothesis (H0): The 'ProLife' battery does not last longer than the 'Standard' battery (μ_prolife ≤ μ_standard).\n",
    "# Alternative Hypothesis (H1): The 'ProLife' battery lasts longer than the 'Standard' battery (μ_prolife > μ_standard).\n",
    "# (b) Perform a z-test for two independent means at a 0.02 significance level.\n",
    "alpha = 0.02  # significance level\n",
    "# Calculate the standard error of the difference between means\n",
    "standard_error = np.sqrt((prolife_sd**2 / prolife_n) + (standard_sd**2 / standard_n))\n",
    "# Calculate the z-score (test statistic)\n",
    "z_score = (prolife_mean - standard_mean) / standard_error\n",
    "# Calculate the p-value for a one-sided test\n",
    "p_value = 1 - stats.norm.cdf(z_score)\n",
    "print(f\"Test Statistic (z-score): {z_score:.4f}\")\n",
    "print(f\"P-value: {p_value:.4f}\")\n",
    "# (c) What is your conclusion regarding the manufacturer's claim about the 'ProLife' battery?\n",
    "if p_value < alpha:\n",
    "    print(\"Reject the null hypothesis. The 'ProLife' battery lasts significantly longer than the 'Standard' battery.\")\n",
    "else:\n",
    "    print(\"Fail to reject the null hypothesis. There is not enough evidence to conclude that the 'ProLife' battery lasts longer than the 'Standard' battery.\")\n",
    "\n",
    "#or --dont use z-test, use t-test\n",
    "t_statistic, p_value = stats.ttest_ind_from_stats(\n",
    "    mean1=prolife_mean, std1=prolife_sd, nobs1=prolife_n,\n",
    "    mean2=standard_mean, std2=standard_sd, nobs2=standard_n,equal_var=False)\n",
    "print(f\"Test Statistic (t-statistic): {t_statistic:.4f}\")\n",
    "print(f\"P-value: {p_value:.4f}\")\n",
    "# (c) Based on the t-test results, we can draw the same conclusion as with the z-test.\n",
    "if p_value < alpha:\n",
    "    print(\"Reject the null hypothesis. The 'ProLife' battery lasts significantly longer than the 'Standard' battery.\")\n",
    "else:\n",
    "    print(\"Fail to reject the null hypothesis. There is not enough evidence to conclude that the 'ProLife' battery lasts longer than the 'Standard' battery.\")\n",
    "# else:\n",
    "#     print(\"Fail to reject the null hypothesis. There is not enough evidence to conclude that the 'ProLife' battery lasts longer than the 'Standard' battery.\")"
   ]
  },
  {
   "cell_type": "markdown",
   "id": "47a73ee9",
   "metadata": {},
   "source": [
    "### Problem-9\n",
    "\n",
    "A popular restaurant chain claims that the average waiting time for a table on weekends is no more than 20 minutes. A local food critic believes it's longer. They record the waiting times (in minutes) for 30 randomly selected tables on various weekends:\n",
    "\n",
    "`[22, 25, 18, 30, 28, 20, 23, 26, 19, 32, 21, 24, 27, 29, 20, 25, 23, 17, 31, 26, 22, 28, 20, 24, 27, 29, 21, 23, 25, 26]`\n",
    "\n",
    "(a) Calculate the sample mean and sample standard deviation of the waiting times.\n",
    "\n",
    "(b) Conduct a one-sided t-test at a 0.01 significance level to assess the food critic's belief.\n",
    "\n",
    "(c) State your null and alternative hypotheses, calculate the test statistic, and determine the critical value.\n",
    "\n",
    "(d) Based on your findings, what can you tell the food critic?"
   ]
  },
  {
   "cell_type": "code",
   "execution_count": 9,
   "id": "27b62a89",
   "metadata": {},
   "outputs": [
    {
     "name": "stdout",
     "output_type": "stream",
     "text": [
      "Sample Mean: 24.37 minutes\n",
      "Sample Standard Deviation: 3.93 minutes\n",
      "Test Statistic (t-statistic): 6.0922\n",
      "Critical Value: 2.4620\n",
      "Reject the null hypothesis. The average waiting time is significantly greater than 20 minutes, supporting the food critic's belief.\n"
     ]
    },
    {
     "data": {
      "text/plain": [
       "\"\\n✅ The Key Difference\\nCode                       \\tPurpose\\nstats.ttest_1samp(...)\\tComputes test statistic (t) and p-value from data\\nstats.t.ppf(1 - alpha, df)\\tGets the critical value (threshold) for decision-making\\n\\n1. stats.ttest_1samp()\\nThis is a one-sample t-test function.\\nIt calculates:\\nThe t-statistic: how far your sample mean is from the hypothesized mean\\nThe p-value: how extreme that t-statistic is under  \\n✅ Use it when you have raw sample data and want to perform the test.\\n\\n🔍 2. stats.t.ppf(...)\\nThis gives you the critical t-value for a given significance level (α), from the t-distribution.\\n✅ Use this when you're doing:\\nManual comparison of t_stat > t_critical\\nConstructing a confidence interval\\nVisualizing rejection region\\n\\n✅ When NOT to use stats.ttest_1samp()\\nYou don’t use ttest_1samp() when:\\nYou don’t have the raw sample data (just summary stats)\\nYou’re manually calculating t and comparing to a critical value\\n🔚 Summary\\nUse this...\\tWhen...\\nstats.ttest_1samp(sample, mu)\\tYou have raw data, want t & p directly\\nstats.t.ppf(1 - α, df)\\tYou want the critical value (manual test)\\nCombine both\\tTo visualize t vs t_critical\\n\""
      ]
     },
     "execution_count": 9,
     "metadata": {},
     "output_type": "execute_result"
    }
   ],
   "source": [
    "\n",
    "import numpy as np\n",
    "import scipy.stats as stats\n",
    "waiting_times = [22, 25, 18, 30, 28, 20, 23, 26, 19, 32, 21, 24, 27, 29, 20, 25, 23, 17, 31, 26, 22, 28, 20, 24, 27, 29, 21, 23, 25, 26]\n",
    "n=30\n",
    "Ho <= 20  # Null hypothesis mean\n",
    "H1 > 20  # Alternative hypothesis mean\n",
    "# (a) Calculate the sample mean and sample standard deviation of the waiting times.\n",
    "sample_mean = np.mean(waiting_times)\n",
    "sample_std = np.std(waiting_times, ddof=1)  # Sample standard deviation\n",
    "print(f\"Sample Mean: {sample_mean:.2f} minutes\")\n",
    "print(f\"Sample Standard Deviation: {sample_std:.2f} minutes\")\n",
    "# (b) Conduct a one-sided t-test at a 0.01 significance level to assess the food critic's belief.\n",
    "alpha = 0.01  # significance level\n",
    "# Calculate the t-statistic\n",
    "t_statistic = (sample_mean - 20) / (sample_std / np.sqrt(n))\n",
    "# Calculate the critical value for a one-sided t-test\n",
    "critical_value = stats.t.ppf(1 - alpha, df=n - 1)\n",
    "print(f\"Test Statistic (t-statistic): {t_statistic:.4f}\")\n",
    "print(f\"Critical Value: {critical_value:.4f}\")\n",
    "# (c) State your null and alternative hypotheses, calculate the test statistic, and determine the critical value.\n",
    "# Null Hypothesis (H0): The average waiting time is less than or equal to\n",
    "# 20 minutes (μ ≤ 20).\n",
    "# Alternative Hypothesis (H1): The average waiting time is greater than 20 minutes (μ > 20).\n",
    "# (d) Based on your findings, what can you tell the food critic?\n",
    "if t_statistic > critical_value:\n",
    "    print(\"Reject the null hypothesis. The average waiting time is significantly greater than 20 minutes, supporting the food critic's belief.\")\n",
    "else:\n",
    "    print(\"Fail to reject the null hypothesis. There is not enough evidence to conclude that the average waiting time is greater than 20 minutes.\")\n",
    "'''\n",
    "✅ The Key Difference\n",
    "Code                       \tPurpose\n",
    "stats.ttest_1samp(...)\tComputes test statistic (t) and p-value from data\n",
    "stats.t.ppf(1 - alpha, df)\tGets the critical value (threshold) for decision-making\n",
    "\n",
    "1. stats.ttest_1samp()\n",
    "This is a one-sample t-test function.\n",
    "It calculates:\n",
    "The t-statistic: how far your sample mean is from the hypothesized mean\n",
    "The p-value: how extreme that t-statistic is under  \n",
    "✅ Use it when you have raw sample data and want to perform the test.\n",
    "\n",
    "🔍 2. stats.t.ppf(...)\n",
    "This gives you the critical t-value for a given significance level (α), from the t-distribution.\n",
    "✅ Use this when you're doing:\n",
    "Manual comparison of t_stat > t_critical\n",
    "Constructing a confidence interval\n",
    "Visualizing rejection region\n",
    "\n",
    "✅ When NOT to use stats.ttest_1samp()\n",
    "You don’t use ttest_1samp() when:\n",
    "You don’t have the raw sample data (just summary stats)\n",
    "You’re manually calculating t and comparing to a critical value\n",
    "🔚 Summary\n",
    "Use this...\tWhen...\n",
    "stats.ttest_1samp(sample, mu)\tYou have raw data, want t & p directly\n",
    "stats.t.ppf(1 - α, df)\tYou want the critical value (manual test)\n",
    "Combine both\tTo visualize t vs t_critical\n",
    "'''"
   ]
  },
  {
   "cell_type": "markdown",
   "id": "01477be1",
   "metadata": {},
   "source": [
    "### Problem-10\n",
    "\n",
    "A software company is launching a new application and offers three different subscription tiers (Basic, Premium, Elite), each with varying features. Before the full launch, they conduct a pilot study to see if there's an association between a customer's age group and their preferred subscription tier. They surveyed 300 randomly selected potential customers and recorded their age group and preferred tier:\n",
    "\n",
    "| Age Group   | Basic | Premium | Elite | Total |\n",
    "|-------------|-------|---------|-------|-------|\n",
    "| 18-29 years |    45 |      60 | 15    | 120   |\n",
    "| 30-49 years |    30 |      50 | 20    | 100   |\n",
    "|   50+ years |    25 |      40 | 15    | 80    |\n",
    "|       Total |   100 |     150 | 50    | 300   |\n",
    "\n",
    "\n",
    "(a) State the null and alternative hypotheses for the test of independence in this context.\n",
    "\n",
    "(b) Calculate the expected frequencies for each cell in the table, assuming the null hypothesis is true. Show your calculations clearly.\n",
    "\n",
    "(c) Calculate the chi-square test statistic.\n",
    "\n",
    "(d) Using a significance level of α=0.05, determine the critical value for this test.\n",
    "\n",
    "(e) What is your conclusion? Is there a significant association between a customer's age group and their preferred subscription tier? Justify your answer based on your calculated chi-square statistic and the critical value."
   ]
  },
  {
   "cell_type": "code",
   "execution_count": 10,
   "id": "8f4d8e1a",
   "metadata": {},
   "outputs": [
    {
     "name": "stdout",
     "output_type": "stream",
     "text": [
      "Expected Frequencies:\n",
      "            Basic    Premium Elite\n",
      "Age Group                         \n",
      "18-29 years   NaN       40.0  60.0\n",
      "30-49 years   NaN  33.333333  50.0\n",
      "50+ years     NaN  26.666667  40.0\n",
      "Chi-square Test Statistic: nan\n",
      "Critical Value at α=0.05: 16.9190\n",
      "Fail to reject the null hypothesis. There is no significant association between a customer's age group and their preferred subscription tier.\n"
     ]
    }
   ],
   "source": [
    "import numpy as np\n",
    "import pandas as pd\n",
    "import scipy.stats as stats\n",
    "# Data for the survey\n",
    "data = {\n",
    "    'Age Group': ['18-29 years', '30-49 years', '50+ years'],\n",
    "    'Basic': [45, 30, 25],\n",
    "    'Premium': [60, 50, 40],\n",
    "    'Elite': [15, 20, 15]\n",
    "}\n",
    "# Create a DataFrame\n",
    "df = pd.DataFrame(data)\n",
    "# (a) State the null and alternative hypotheses for the test of independence in this context.\n",
    "# Null Hypothesis (H0): There is no association between a customer's age group and their\n",
    "# preferred subscription tier (the two variables are independent).\n",
    "# Alternative Hypothesis (H1): There is an association between a customer's age group and their preferred subscription tier (the two variables are not independent).\n",
    "# (b) Calculate the expected frequencies for each cell in the table, assuming the null hypothesis is true.\n",
    "# Calculate the total for each column and row\n",
    "df['Total'] = df[['Basic', 'Premium', 'Elite']].sum(axis=1)\n",
    "df.loc['Total'] = df[['Basic', 'Premium', 'Elite']].sum()\n",
    "# Calculate expected frequencies\n",
    "expected_frequencies = np.outer(df['Total'][:-1], df.loc['Total'][:3]) / df['Total'][:-1].sum()\n",
    "# Create a DataFrame for expected frequencies   \n",
    "expected_df = pd.DataFrame(expected_frequencies, columns=['Basic', 'Premium', 'Elite'], index=df['Age Group'][:-1])\n",
    "print(\"Expected Frequencies:\")\n",
    "print(expected_df)\n",
    "# (c) Calculate the chi-square test statistic.\n",
    "observed_frequencies = df[['Basic', 'Premium', 'Elite']].values[:-1]  # Exclude the total row\n",
    "chi_square_statistic = ((observed_frequencies - expected_frequencies) ** 2 / expected_frequencies).sum().sum()\n",
    "print(f\"Chi-square Test Statistic: {chi_square_statistic:.4f}\")\n",
    "# (d) Using a significance level of α=0.05, determine the critical value for this test.\n",
    "alpha = 0.05\n",
    "degrees_of_freedom = (len(df['Age Group']) - 1) * (len(df.columns) - 2)  # (rows - 1) * (columns - 1)\n",
    "critical_value = stats.chi2.ppf(1 - alpha, degrees_of_freedom)\n",
    "print(f\"Critical Value at α=0.05: {critical_value:.4f}\")\n",
    "# (e) What is your conclusion? Is there a significant association between a customer's age group and their preferred subscription tier?\n",
    "if chi_square_statistic > critical_value:\n",
    "    print(\"Reject the null hypothesis. There is a significant association between a customer's age group and their preferred subscription tier.\")\n",
    "else:\n",
    "    print(\"Fail to reject the null hypothesis. There is no significant association between a customer's age group and their preferred subscription tier.\")"
   ]
  },
  {
   "cell_type": "markdown",
   "id": "c3bf80f1",
   "metadata": {},
   "source": [
    "### Bonus Problem\n",
    "\n",
    "An e-commerce company is testing two different designs for its product pages (Design A and Design B) to see if one leads to significantly higher conversion rates (percentage of visitors who make a purchase). They randomly assigned 50,000 website visitors to see Design A and another 50,000 visitors to see Design B over a two-week period. At the end of the period, they collected data on the conversion rates. Due to data collection specifics, they have daily average conversion rates for 30 randomly selected days for each design, rather than individual visitor data.\n",
    "\n",
    "Here are the summary statistics for the daily average conversion rates (in percentage points):\n",
    "\n",
    "* Design A (Sample 1):\n",
    "\n",
    "    - Number of days ($n_A$) = 30\n",
    "    - Mean Daily Conversion Rate ($\\bar{x}_A$) = 2.85%\n",
    "    - Sample Standard Deviation ($s_A$) = 0.45%\n",
    "\n",
    "* Design B (Sample 2):\n",
    "\n",
    "    - Number of days ($n_B$) = 30\n",
    "    - Mean Daily Conversion Rate ($\\bar{x}_B$) = 3.05%\n",
    "    - Sample Standard Deviation ($s_B$) = 0.60%\n",
    "\n",
    "The company is concerned that the variability in conversion rates might differ between the two designs due to different aesthetic elements or backend processes.\n",
    "\n",
    "(a) State the null and alternative hypotheses to test if there is a significant difference in the average daily conversion rates between Design A and Design B. (Consider a two-tailed test, as they are looking for any significant difference).\n",
    "\n",
    "(b) Before performing the t-test, you need to decide whether to assume equal or unequal population variances. For the purpose of this problem, assume that a prior test suggests unequal population variances.\n",
    "\n",
    "(c) Calculate the appropriate test statistic (t-value) for comparing the two independent means, assuming equal population variances. Show all steps of your calculation.\n",
    "\n",
    "(d) Determine the degrees of freedom for this test. \n",
    "\n",
    "(e) Using a significance level of α=0.05, determine the critical value(s) for your test.\n",
    "\n",
    "(f) Based on your calculated test statistic and the critical value(s), what is your conclusion? Is there a statistically significant difference in the average daily conversion rates between Design A and Design B?\n",
    "\n",
    "(g) Construct a 95% confidence interval for the difference between the true mean daily conversion rates $(μ_B - μ_A)$. Interpret this interval in the context of the problem."
   ]
  },
  {
   "cell_type": "code",
   "execution_count": null,
   "id": "017d8e30",
   "metadata": {},
   "outputs": [],
   "source": []
  }
 ],
 "metadata": {
  "kernelspec": {
   "display_name": "Python 3",
   "language": "python",
   "name": "python3"
  },
  "language_info": {
   "codemirror_mode": {
    "name": "ipython",
    "version": 3
   },
   "file_extension": ".py",
   "mimetype": "text/x-python",
   "name": "python",
   "nbconvert_exporter": "python",
   "pygments_lexer": "ipython3",
   "version": "3.13.5"
  }
 },
 "nbformat": 4,
 "nbformat_minor": 5
}
